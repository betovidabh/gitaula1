{
  "nbformat": 4,
  "nbformat_minor": 0,
  "metadata": {
    "colab": {
      "provenance": [],
      "authorship_tag": "ABX9TyNqsMwULLmPjp0sO20S9fN+",
      "include_colab_link": true
    },
    "kernelspec": {
      "name": "python3",
      "display_name": "Python 3"
    },
    "language_info": {
      "name": "python"
    }
  },
  "cells": [
    {
      "cell_type": "markdown",
      "metadata": {
        "id": "view-in-github",
        "colab_type": "text"
      },
      "source": [
        "<a href=\"https://colab.research.google.com/github/betovidabh/gitaula1/blob/main/Untitled1.ipynb\" target=\"_parent\"><img src=\"https://colab.research.google.com/assets/colab-badge.svg\" alt=\"Open In Colab\"/></a>"
      ]
    },
    {
      "cell_type": "code",
      "execution_count": 3,
      "metadata": {
        "id": "zfBV7U0rFAG2"
      },
      "outputs": [],
      "source": [
        "class classe_livro:\n",
        "  def __init__(self, titulo, autor, genero, quantidade):\n",
        "    self.titulo = titulo\n",
        "    self.autor = autor\n",
        "    self.genero = genero\n",
        "    self.quantidade = quantidade\n",
        "\n",
        "  def __str__(self):\n",
        "    return f\"Título: {self.titulo}\\nAutor: {self.autor}\\nGênero: {self.genero}\\nQuantidade: {self.quantidade}\""
      ]
    },
    {
      "cell_type": "code",
      "source": [
        "# lista para armazenar livros\n",
        "biblioteca = []"
      ],
      "metadata": {
        "id": "4qYRBVGoGHMO"
      },
      "execution_count": 5,
      "outputs": []
    },
    {
      "cell_type": "code",
      "source": [
        "# fnnção para cadastrar um novo livro\n",
        "def cadastrar_livro(titulo, autor, genero, quantidade):\n",
        "  novo_livro = classe_livro(titulo, autor, genero, quantidade)\n",
        "  biblioteca.append(novo_livro)\n",
        "  print(f\"Livro '{titulo}' cadastrado com sucesso!\")\n",
        "\n",
        "# função para listar todos os livros\n",
        "def listar_livros():\n",
        "  if not biblioteca:\n",
        "    print(\"Nenhum livro cadastrado.\")\n",
        "    return\n",
        "  print(\"Lista de Livros na biblioteca:\")\n",
        "  for livro in biblioteca:\n",
        "    print(livro)\n",
        "\n",
        "# Função para buscar um livro pelo titulo\n",
        "def buscar_livro(titulo):\n",
        "  for livro in biblioteca:\n",
        "    if livro.titulo.lower() == titulo.lower():\n",
        "      print(\"livro encontrado:\")\n",
        "      print(livro)\n",
        "      return\n",
        "  print(f\"Livro '{titulo}' não encontrado.\")"
      ],
      "metadata": {
        "id": "TDrL6IUzG20-"
      },
      "execution_count": 7,
      "outputs": []
    },
    {
      "cell_type": "code",
      "source": [
        "# importar a biblioteca Matplotlib\n",
        "import matplotlib.pyplot as plt\n",
        "\n",
        "def graficos_livros_por_genero():\n",
        "  if not biblioteca:\n",
        "    print(\"Nenhum livro cadastrado.\")\n",
        "    return\n",
        "\n",
        "# Contar livros por genero\n",
        "generos = {}\n",
        "for livro in biblioteca:\n",
        "  genero = livro['genero']\n",
        "  if genero in generos:\n",
        "    generos[genero] += 1\n",
        "  else:\n",
        "    generos[genero] = livro.quantidade\n",
        "\n",
        "# Geração de gráfico\n",
        "plt.bar(generos.keys(), generos.values())\n",
        "plt.xlabel('Gênero')\n",
        "plt.ylabel('Quantidade')\n",
        "plt.title('Livros por Gênero')\n",
        "plt.show()"
      ],
      "metadata": {
        "colab": {
          "base_uri": "https://localhost:8080/",
          "height": 472
        },
        "id": "YlgqniGaJEYz",
        "outputId": "aa5a5c46-d5f8-4330-ab56-a63cc368087d"
      },
      "execution_count": 8,
      "outputs": [
        {
          "output_type": "display_data",
          "data": {
            "text/plain": [
              "<Figure size 640x480 with 1 Axes>"
            ],
            "image/png": "[encoded data removed]"
          },
          "metadata": {}
        }
      ]
    },
    {
      "cell_type": "code",
      "source": [
        "# Testar o sistema / cadrasto de livros\n",
        "cadastrar_livro(\"Dom Casmurro\", \"Machado de Assis\", \"Romance\", 10)\n",
        "cadastrar_livro(\"O Senhor dos Anéis\", \"J.R.R. Tolkien\", \"Fantasia\", 5)\n",
        "cadastrar_livro(\"1984\", \"George Orwell\", \"Ficção Científica\", 8)\n",
        "cadastrar_livro(\"Harry Potter e a Pedra Filosofal\", \"J.K. Rowling\", \"Fantasia\", 12)\n",
        "cadastrar_livro(\"A Culpa é das Estrelas\", \"John Green\", \"Romance\", 6)\n",
        "\n",
        "# Listando livros\n",
        "listar_livros()\n",
        "\n",
        "# Buscando um livro\n",
        "buscar_livro(\"Dom Casmurro\")\n",
        "\n",
        "# Gerando grafico\n",
        "graficos_livros_por_genero()\n"
      ],
      "metadata": {
        "colab": {
          "base_uri": "https://localhost:8080/"
        },
        "id": "odz9fnW5KNds",
        "outputId": "ba67a10d-8318-4348-bfc2-7b568099e76a"
      },
      "execution_count": 9,
      "outputs": [
        {
          "output_type": "stream",
          "name": "stdout",
          "text": [
            "Livro 'Dom Casmurro' cadastrado com sucesso!\n",
            "Livro 'O Senhor dos Anéis' cadastrado com sucesso!\n",
            "Livro '1984' cadastrado com sucesso!\n",
            "Livro 'Harry Potter e a Pedra Filosofal' cadastrado com sucesso!\n",
            "Livro 'A Culpa é das Estrelas' cadastrado com sucesso!\n",
            "Lista de Livros na biblioteca:\n",
            "Título: Dom Casmurro\n",
            "Autor: Machado de Assis\n",
            "Gênero: Romance\n",
            "Quantidade: 10\n",
            "Título: O Senhor dos Anéis\n",
            "Autor: J.R.R. Tolkien\n",
            "Gênero: Fantasia\n",
            "Quantidade: 5\n",
            "Título: 1984\n",
            "Autor: George Orwell\n",
            "Gênero: Ficção Científica\n",
            "Quantidade: 8\n",
            "Título: Harry Potter e a Pedra Filosofal\n",
            "Autor: J.K. Rowling\n",
            "Gênero: Fantasia\n",
            "Quantidade: 12\n",
            "Título: A Culpa é das Estrelas\n",
            "Autor: John Green\n",
            "Gênero: Romance\n",
            "Quantidade: 6\n",
            "livro encontrado:\n",
            "Título: Dom Casmurro\n",
            "Autor: Machado de Assis\n",
            "Gênero: Romance\n",
            "Quantidade: 10\n"
          ]
        }
      ]
    }
  ]
}