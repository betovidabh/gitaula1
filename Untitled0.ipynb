{
  "nbformat": 4,
  "nbformat_minor": 0,
  "metadata": {
    "colab": {
      "provenance": [],
      "authorship_tag": "ABX9TyNmLQonQz4peNn3kk1UDBak",
      "include_colab_link": true
    },
    "kernelspec": {
      "name": "python3",
      "display_name": "Python 3"
    },
    "language_info": {
      "name": "python"
    }
  },
  "cells": [
    {
      "cell_type": "markdown",
      "metadata": {
        "id": "view-in-github",
        "colab_type": "text"
      },
      "source": [
        "<a href=\"https://colab.research.google.com/github/betovidabh/gitaula1/blob/main/Untitled0.ipynb\" target=\"_parent\"><img src=\"https://colab.research.google.com/assets/colab-badge.svg\" alt=\"Open In Colab\"/></a>"
      ]
    },
    {
      "cell_type": "code",
      "execution_count": null,
      "metadata": {
        "id": "_SYT392ncvhA"
      },
      "outputs": [],
      "source": [
        "# === Sistema de Gestão de Notas ==="
      ]
    },
    {
      "cell_type": "code",
      "source": [
        "# Função para cadastrar notas"
      ],
      "metadata": {
        "id": "iHZxRlWilP4p"
      },
      "execution_count": null,
      "outputs": []
    },
    {
      "cell_type": "code",
      "source": [
        "def cadastrar_notas():\n",
        "    notas = []\n",
        "    while True:\n",
        "        nota = float(input(\"Digite a nota do aluno (ou -1 para parar): \"))\n",
        "        if nota == -1:  # condição de parada\n",
        "            break\n",
        "        notas.append(nota)\n",
        "    return notas\n",
        "def cadastrar_notas():\n",
        "    notas = []\n",
        "    while True:\n",
        "        nota = float(input(\"Digite a nota do aluno (ou -1 para parar): \"))\n",
        "        if nota == -1:  # condição de parada\n",
        "            break\n",
        "        notas.append(nota)\n",
        "    return notas\n"
      ],
      "metadata": {
        "id": "_IZM-1ielVbr"
      },
      "execution_count": null,
      "outputs": []
    },
    {
      "cell_type": "code",
      "source": [
        "# Função para calcular a média"
      ],
      "metadata": {
        "id": "dYIigL0_liOa"
      },
      "execution_count": null,
      "outputs": []
    },
    {
      "cell_type": "code",
      "source": [
        "def calcular_media(notas):\n",
        "    if len(notas) == 0:\n",
        "        return 0\n",
        "    return sum(notas) / len(notas)\n"
      ],
      "metadata": {
        "id": "GNHPEGnnln0R"
      },
      "execution_count": null,
      "outputs": []
    },
    {
      "cell_type": "code",
      "source": [
        "# Função para verificar a situação do aluno"
      ],
      "metadata": {
        "id": "ltTcv_RMlvK5"
      },
      "execution_count": null,
      "outputs": []
    },
    {
      "cell_type": "code",
      "source": [
        "def verificar_situacao(media):\n",
        "    if media >= 7:\n",
        "        return \"Aprovado ✅\"\n",
        "    else:\n",
        "        return \"Reprovado ❌\"\n"
      ],
      "metadata": {
        "id": "Kfn2bYU-lx1p"
      },
      "execution_count": null,
      "outputs": []
    },
    {
      "cell_type": "code",
      "source": [
        "# Função para exibir o relatório final"
      ],
      "metadata": {
        "id": "0_SDZn3tl2pR"
      },
      "execution_count": null,
      "outputs": []
    },
    {
      "cell_type": "code",
      "source": [
        "def exibir_relatorio(notas, media, situacao):\n",
        "    print(\"\\n===== RELATÓRIO FINAL =====\")\n",
        "    print(\"Notas inseridas:\", notas)\n",
        "    print(f\"Média: {media:.2f}\")\n",
        "    print(\"Situação:\", situacao)\n"
      ],
      "metadata": {
        "id": "QkcvlptBl5to"
      },
      "execution_count": null,
      "outputs": []
    },
    {
      "cell_type": "code",
      "source": [
        "# Função principal"
      ],
      "metadata": {
        "id": "O5_PstA7l-FZ"
      },
      "execution_count": null,
      "outputs": []
    },
    {
      "cell_type": "code",
      "source": [
        "def main():\n",
        "    print(\"=== Sistema de Gestão de Notas ===\")\n"
      ],
      "metadata": {
        "id": "2h0jOV3zmDYJ"
      },
      "execution_count": null,
      "outputs": []
    },
    {
      "cell_type": "code",
      "source": [
        "# Cadastro das notas"
      ],
      "metadata": {
        "id": "QyQSobMumHdU"
      },
      "execution_count": null,
      "outputs": []
    },
    {
      "cell_type": "code",
      "source": [
        "    notas = cadastrar_notas()"
      ],
      "metadata": {
        "colab": {
          "base_uri": "https://localhost:8080/"
        },
        "id": "FM_6vHw_mKX0",
        "outputId": "c49fd9a1-27f0-4297-f6ee-f8d39c4a373a"
      },
      "execution_count": null,
      "outputs": [
        {
          "name": "stdout",
          "output_type": "stream",
          "text": [
            "Digite a nota do aluno (ou -1 para parar): 6\n",
            "Digite a nota do aluno (ou -1 para parar): 7\n"
          ]
        }
      ]
    },
    {
      "cell_type": "code",
      "source": [
        "# Cálculo da média"
      ],
      "metadata": {
        "id": "STkShI88mPru"
      },
      "execution_count": null,
      "outputs": []
    },
    {
      "cell_type": "code",
      "source": [
        "media = calcular_media(notas)"
      ],
      "metadata": {
        "id": "FRcsyWO6mTFJ"
      },
      "execution_count": null,
      "outputs": []
    },
    {
      "cell_type": "code",
      "source": [
        "# Verificação da situação"
      ],
      "metadata": {
        "id": "D6rTYPadmV-F"
      },
      "execution_count": null,
      "outputs": []
    },
    {
      "cell_type": "code",
      "source": [
        "    situacao = verificar_situacao(media)"
      ],
      "metadata": {
        "id": "NGiS87gXmaRQ"
      },
      "execution_count": null,
      "outputs": []
    },
    {
      "cell_type": "code",
      "source": [
        "    # Exibição do relatório"
      ],
      "metadata": {
        "id": "TOP3nlBFmdQW"
      },
      "execution_count": null,
      "outputs": []
    },
    {
      "cell_type": "code",
      "source": [
        "    exibir_relatorio(notas, media, situacao)"
      ],
      "metadata": {
        "id": "qIRooxg9mge7"
      },
      "execution_count": null,
      "outputs": []
    },
    {
      "cell_type": "code",
      "source": [
        "# Executar programa"
      ],
      "metadata": {
        "id": "abTnCvbcmjEv"
      },
      "execution_count": null,
      "outputs": []
    },
    {
      "cell_type": "code",
      "source": [
        "main()"
      ],
      "metadata": {
        "id": "lMaH9Hirmmnr"
      },
      "execution_count": null,
      "outputs": []
    }
  ]
}